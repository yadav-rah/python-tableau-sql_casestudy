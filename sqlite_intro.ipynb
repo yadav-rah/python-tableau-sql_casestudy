{
 "cells": [
  {
   "cell_type": "code",
   "execution_count": null,
   "id": "2aee6411",
   "metadata": {},
   "outputs": [],
   "source": [
    "# Connect to SQLite Database\n",
    "import sqlite3\n",
    "conn = sqlite3.connect(\"case_study.db\")"
   ]
  },
  {
   "cell_type": "code",
   "execution_count": null,
   "id": "023acb19",
   "metadata": {},
   "outputs": [],
   "source": [
    "# Create a cursor\n",
    "cur = conn.cursor()"
   ]
  },
  {
   "cell_type": "code",
   "execution_count": null,
   "id": "2f856bd4",
   "metadata": {},
   "outputs": [],
   "source": [
    "# Create table\n",
    "cur.execute(\"CREATE TABLE customer (first_name TEXT, last_name TEST, income REAL)\")\n",
    "\n",
    "# Insert a row in the table\n",
    "cur.execute(\"INSERT INTO customer VALUES ('Rahul', 'Yadav', '1234')\")\n",
    "\n",
    "# Save results\n",
    "conn.commit()"
   ]
  },
  {
   "cell_type": "code",
   "execution_count": null,
   "id": "548fb028",
   "metadata": {},
   "outputs": [],
   "source": [
    "# Run simple query\n",
    "cur.execute(\"SELECT * FROM customer\")\n",
    "cur.fetchone()"
   ]
  },
  {
   "cell_type": "code",
   "execution_count": null,
   "id": "3c781fb6",
   "metadata": {},
   "outputs": [],
   "source": [
    "for row in cur.execute(\"SELECT * FROM customer\"):\n",
    "    print(row)"
   ]
  },
  {
   "cell_type": "code",
   "execution_count": null,
   "id": "aef33aab",
   "metadata": {},
   "outputs": [],
   "source": [
    "# Add serveral rows\n",
    "customer_list = [('Rakesh', 'Yadav', '0000'), ('Sandeep', 'Sharma', '1111'), ('Anoop', 'Dhave', '2222'), ('Asif', 'Khan', '1230')]\n",
    "\n",
    "cur.executemany(\"INSERT INTO customer VALUES (?, ?, ?)\", customer_list)"
   ]
  },
  {
   "cell_type": "code",
   "execution_count": null,
   "id": "eda23182",
   "metadata": {},
   "outputs": [],
   "source": [
    "# Save Resutls\n",
    "conn.commit()"
   ]
  },
  {
   "cell_type": "code",
   "execution_count": null,
   "id": "25648266",
   "metadata": {},
   "outputs": [],
   "source": [
    "# Close Connection\n",
    "conn.close()"
   ]
  }
 ],
 "metadata": {
  "kernelspec": {
   "display_name": "Python 3 (ipykernel)",
   "language": "python",
   "name": "python3"
  },
  "language_info": {
   "codemirror_mode": {
    "name": "ipython",
    "version": 3
   },
   "file_extension": ".py",
   "mimetype": "text/x-python",
   "name": "python",
   "nbconvert_exporter": "python",
   "pygments_lexer": "ipython3",
   "version": "3.9.7"
  }
 },
 "nbformat": 4,
 "nbformat_minor": 5
}
