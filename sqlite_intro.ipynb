{
 "cells": [
  {
   "cell_type": "code",
   "execution_count": 1,
   "id": "51a640c2",
   "metadata": {},
   "outputs": [],
   "source": [
    "# Connect to SQLite Database\n",
    "import sqlite3\n",
    "conn = sqlite3.connect(\"case_study.db\")"
   ]
  },
  {
   "cell_type": "code",
   "execution_count": 2,
   "id": "93fe5dd4",
   "metadata": {},
   "outputs": [],
   "source": [
    "# Create a cursor\n",
    "cur = conn.cursor()"
   ]
  },
  {
   "cell_type": "code",
   "execution_count": 3,
   "id": "87330d9c",
   "metadata": {},
   "outputs": [],
   "source": [
    "# Create table\n",
    "cur.execute(\"CREATE TABLE customer (first_name TEXT, last_name TEST, income REAL)\")\n",
    "\n",
    "# Insert a row in the table\n",
    "cur.execute(\"INSERT INTO customer VALUES ('Rahul', 'Yadav', '1234')\")\n",
    "\n",
    "# Save results\n",
    "conn.commit()"
   ]
  }
 ],
 "metadata": {
  "kernelspec": {
   "display_name": "Python 3 (ipykernel)",
   "language": "python",
   "name": "python3"
  },
  "language_info": {
   "codemirror_mode": {
    "name": "ipython",
    "version": 3
   },
   "file_extension": ".py",
   "mimetype": "text/x-python",
   "name": "python",
   "nbconvert_exporter": "python",
   "pygments_lexer": "ipython3",
   "version": "3.9.7"
  }
 },
 "nbformat": 4,
 "nbformat_minor": 5
}
