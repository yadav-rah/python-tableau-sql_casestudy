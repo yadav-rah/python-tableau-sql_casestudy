{
 "cells": [
  {
   "cell_type": "markdown",
   "id": "fc9f37b1",
   "metadata": {},
   "source": [
    "# Introduction to Pandas With SQLite"
   ]
  },
  {
   "cell_type": "code",
   "execution_count": null,
   "id": "43feb93a",
   "metadata": {},
   "outputs": [],
   "source": [
    "import pandas as pd\n",
    "import sqlite3\n",
    "import warnings\n",
    "warnings.filterwarnings(\"ignore\")"
   ]
  },
  {
   "cell_type": "markdown",
   "id": "fed53451",
   "metadata": {},
   "source": [
    "## Create a connection"
   ]
  },
  {
   "cell_type": "code",
   "execution_count": null,
   "id": "0774c08f",
   "metadata": {},
   "outputs": [],
   "source": [
    "conn = sqlite3.connect(\"case_study.db\")\n",
    "cur = conn.cursor()"
   ]
  },
  {
   "cell_type": "code",
   "execution_count": null,
   "id": "313b154e",
   "metadata": {},
   "outputs": [],
   "source": [
    "# Test Connection\n",
    "cur.execute(\"SELECT * FROM customer;\")\n",
    "cur.fetchall()"
   ]
  },
  {
   "cell_type": "markdown",
   "id": "d90cd299",
   "metadata": {},
   "source": [
    "## Creation of a Dataframe (Pandas)"
   ]
  },
  {
   "cell_type": "code",
   "execution_count": null,
   "id": "d206d6c3",
   "metadata": {},
   "outputs": [],
   "source": [
    "cust_df = pd.read_sql_query(\"SELECT * FROM customer\", conn)\n",
    "cust_df.head(10)  # Print first 10 rows form the dataframe"
   ]
  },
  {
   "cell_type": "code",
   "execution_count": null,
   "id": "3bef5c04",
   "metadata": {},
   "outputs": [],
   "source": [
    "# Alternate way to read DB using pandas\n",
    "alt_cust_df = pd.read_sql(\"SELECT * FROM customer\", conn)\n",
    "alt_cust_df.head(10)"
   ]
  },
  {
   "cell_type": "code",
   "execution_count": null,
   "id": "67828b5a",
   "metadata": {},
   "outputs": [],
   "source": [
    "# Using WHERE clause.\n",
    "filtered_cust_df = pd.read_sql(\"SELECT * FROM customer WHERE first_name = 'Rahul'\", conn)\n",
    "filtered_cust_df.head(10)"
   ]
  },
  {
   "cell_type": "code",
   "execution_count": null,
   "id": "850ab6bf",
   "metadata": {},
   "outputs": [],
   "source": [
    "# Using ORDER BY clause\n",
    "ordered_cust_df = pd.read_sql(\"SELECT first_name, last_name FROM customer ORDER BY last_name\", conn)\n",
    "ordered_cust_df.head(10)"
   ]
  },
  {
   "cell_type": "markdown",
   "id": "87a65f22",
   "metadata": {},
   "source": [
    "## Creating SQLite DB Tables Using Pandas Dataframe"
   ]
  },
  {
   "cell_type": "code",
   "execution_count": null,
   "id": "2a695e18",
   "metadata": {},
   "outputs": [],
   "source": [
    "cust_df.to_sql(\"customer_duplicate\", conn, if_exists=\"replace\", index=False)"
   ]
  },
  {
   "cell_type": "code",
   "execution_count": null,
   "id": "9fc004c9",
   "metadata": {},
   "outputs": [],
   "source": [
    "dup_cust_df = pd.read_sql_query(\"SELECT * FROM customer_duplicate\", conn)\n",
    "dup_cust_df.head(10)  # Print first 10 rows form the dataframe"
   ]
  }
 ],
 "metadata": {
  "kernelspec": {
   "display_name": "Python 3 (ipykernel)",
   "language": "python",
   "name": "python3"
  },
  "language_info": {
   "codemirror_mode": {
    "name": "ipython",
    "version": 3
   },
   "file_extension": ".py",
   "mimetype": "text/x-python",
   "name": "python",
   "nbconvert_exporter": "python",
   "pygments_lexer": "ipython3",
   "version": "3.9.7"
  }
 },
 "nbformat": 4,
 "nbformat_minor": 5
}
