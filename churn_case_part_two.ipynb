{
 "cells": [
  {
   "cell_type": "markdown",
   "id": "144320d0",
   "metadata": {},
   "source": [
    "# Churn Case Part 2: Analysis Of LTV (Life Time Value)"
   ]
  },
  {
   "cell_type": "markdown",
   "id": "74b63894",
   "metadata": {},
   "source": [
    "Lifetime value (LTV) is the total worth to a business of a customer over the while period of their relationship. It's an important metric as it costs less to keep existings customers than to acquire new ones, so the idea of increasing the value of your existig customers is a great way to drive growth."
   ]
  },
  {
   "cell_type": "code",
   "execution_count": 1,
   "id": "433417f8",
   "metadata": {},
   "outputs": [],
   "source": [
    "import sqlite3\n",
    "import pandas as pd"
   ]
  },
  {
   "cell_type": "code",
   "execution_count": 2,
   "id": "e882f2d4",
   "metadata": {},
   "outputs": [],
   "source": [
    "conn = sqlite3.connect(\"churn.db\")"
   ]
  },
  {
   "cell_type": "code",
   "execution_count": 3,
   "id": "0f7855a6",
   "metadata": {},
   "outputs": [],
   "source": [
    "df = pd.read_sql(\"select * from churn_all\", conn)"
   ]
  },
  {
   "cell_type": "code",
   "execution_count": 4,
   "id": "87b215a8",
   "metadata": {},
   "outputs": [
    {
     "data": {
      "text/html": [
       "<div>\n",
       "<style scoped>\n",
       "    .dataframe tbody tr th:only-of-type {\n",
       "        vertical-align: middle;\n",
       "    }\n",
       "\n",
       "    .dataframe tbody tr th {\n",
       "        vertical-align: top;\n",
       "    }\n",
       "\n",
       "    .dataframe thead th {\n",
       "        text-align: right;\n",
       "    }\n",
       "</style>\n",
       "<table border=\"1\" class=\"dataframe\">\n",
       "  <thead>\n",
       "    <tr style=\"text-align: right;\">\n",
       "      <th></th>\n",
       "      <th>CustomerID</th>\n",
       "      <th>Gender</th>\n",
       "      <th>SeniorCitizen</th>\n",
       "      <th>Partner</th>\n",
       "      <th>Dependents</th>\n",
       "      <th>State</th>\n",
       "      <th>Latitude</th>\n",
       "      <th>Longitude</th>\n",
       "      <th>ZipCode</th>\n",
       "      <th>PhoneService</th>\n",
       "      <th>...</th>\n",
       "      <th>TechSupport</th>\n",
       "      <th>StreamingTV</th>\n",
       "      <th>StreamingMovies</th>\n",
       "      <th>Tenure</th>\n",
       "      <th>Contract</th>\n",
       "      <th>PaymentMethod</th>\n",
       "      <th>PaperlessBilling</th>\n",
       "      <th>MonthlyCharges</th>\n",
       "      <th>TotalCharges</th>\n",
       "      <th>Churn</th>\n",
       "    </tr>\n",
       "  </thead>\n",
       "  <tbody>\n",
       "    <tr>\n",
       "      <th>0</th>\n",
       "      <td>3668-QPYBK</td>\n",
       "      <td>Male</td>\n",
       "      <td>No</td>\n",
       "      <td>No</td>\n",
       "      <td>No</td>\n",
       "      <td>California</td>\n",
       "      <td>33.964131</td>\n",
       "      <td>-118.272783</td>\n",
       "      <td>90003</td>\n",
       "      <td>Yes</td>\n",
       "      <td>...</td>\n",
       "      <td>No</td>\n",
       "      <td>No</td>\n",
       "      <td>No</td>\n",
       "      <td>2</td>\n",
       "      <td>Month-to-month</td>\n",
       "      <td>Mailed check</td>\n",
       "      <td>Yes</td>\n",
       "      <td>53.85</td>\n",
       "      <td>108.15</td>\n",
       "      <td>Yes</td>\n",
       "    </tr>\n",
       "    <tr>\n",
       "      <th>1</th>\n",
       "      <td>9237-HQITU</td>\n",
       "      <td>Female</td>\n",
       "      <td>No</td>\n",
       "      <td>No</td>\n",
       "      <td>Yes</td>\n",
       "      <td>California</td>\n",
       "      <td>34.059281</td>\n",
       "      <td>-118.307420</td>\n",
       "      <td>90005</td>\n",
       "      <td>Yes</td>\n",
       "      <td>...</td>\n",
       "      <td>No</td>\n",
       "      <td>No</td>\n",
       "      <td>No</td>\n",
       "      <td>2</td>\n",
       "      <td>Month-to-month</td>\n",
       "      <td>Electronic check</td>\n",
       "      <td>Yes</td>\n",
       "      <td>70.70</td>\n",
       "      <td>151.65</td>\n",
       "      <td>Yes</td>\n",
       "    </tr>\n",
       "    <tr>\n",
       "      <th>2</th>\n",
       "      <td>9305-CDSKC</td>\n",
       "      <td>Female</td>\n",
       "      <td>No</td>\n",
       "      <td>No</td>\n",
       "      <td>Yes</td>\n",
       "      <td>California</td>\n",
       "      <td>34.048013</td>\n",
       "      <td>-118.293953</td>\n",
       "      <td>90006</td>\n",
       "      <td>Yes</td>\n",
       "      <td>...</td>\n",
       "      <td>No</td>\n",
       "      <td>Yes</td>\n",
       "      <td>Yes</td>\n",
       "      <td>8</td>\n",
       "      <td>Month-to-month</td>\n",
       "      <td>Electronic check</td>\n",
       "      <td>Yes</td>\n",
       "      <td>99.65</td>\n",
       "      <td>820.5</td>\n",
       "      <td>Yes</td>\n",
       "    </tr>\n",
       "    <tr>\n",
       "      <th>3</th>\n",
       "      <td>7892-POOKP</td>\n",
       "      <td>Female</td>\n",
       "      <td>No</td>\n",
       "      <td>Yes</td>\n",
       "      <td>Yes</td>\n",
       "      <td>California</td>\n",
       "      <td>34.062125</td>\n",
       "      <td>-118.315709</td>\n",
       "      <td>90010</td>\n",
       "      <td>Yes</td>\n",
       "      <td>...</td>\n",
       "      <td>Yes</td>\n",
       "      <td>Yes</td>\n",
       "      <td>Yes</td>\n",
       "      <td>28</td>\n",
       "      <td>Month-to-month</td>\n",
       "      <td>Electronic check</td>\n",
       "      <td>Yes</td>\n",
       "      <td>104.80</td>\n",
       "      <td>3046.05</td>\n",
       "      <td>Yes</td>\n",
       "    </tr>\n",
       "    <tr>\n",
       "      <th>4</th>\n",
       "      <td>0280-XJGEX</td>\n",
       "      <td>Male</td>\n",
       "      <td>No</td>\n",
       "      <td>No</td>\n",
       "      <td>Yes</td>\n",
       "      <td>California</td>\n",
       "      <td>34.039224</td>\n",
       "      <td>-118.266293</td>\n",
       "      <td>90015</td>\n",
       "      <td>Yes</td>\n",
       "      <td>...</td>\n",
       "      <td>No</td>\n",
       "      <td>Yes</td>\n",
       "      <td>Yes</td>\n",
       "      <td>49</td>\n",
       "      <td>Month-to-month</td>\n",
       "      <td>Bank transfer (automatic)</td>\n",
       "      <td>Yes</td>\n",
       "      <td>103.70</td>\n",
       "      <td>5036.3</td>\n",
       "      <td>Yes</td>\n",
       "    </tr>\n",
       "  </tbody>\n",
       "</table>\n",
       "<p>5 rows × 25 columns</p>\n",
       "</div>"
      ],
      "text/plain": [
       "   CustomerID  Gender SeniorCitizen Partner Dependents       State   Latitude  \\\n",
       "0  3668-QPYBK    Male            No      No         No  California  33.964131   \n",
       "1  9237-HQITU  Female            No      No        Yes  California  34.059281   \n",
       "2  9305-CDSKC  Female            No      No        Yes  California  34.048013   \n",
       "3  7892-POOKP  Female            No     Yes        Yes  California  34.062125   \n",
       "4  0280-XJGEX    Male            No      No        Yes  California  34.039224   \n",
       "\n",
       "    Longitude  ZipCode PhoneService  ... TechSupport StreamingTV  \\\n",
       "0 -118.272783    90003          Yes  ...          No          No   \n",
       "1 -118.307420    90005          Yes  ...          No          No   \n",
       "2 -118.293953    90006          Yes  ...          No         Yes   \n",
       "3 -118.315709    90010          Yes  ...         Yes         Yes   \n",
       "4 -118.266293    90015          Yes  ...          No         Yes   \n",
       "\n",
       "  StreamingMovies Tenure        Contract              PaymentMethod  \\\n",
       "0              No      2  Month-to-month               Mailed check   \n",
       "1              No      2  Month-to-month           Electronic check   \n",
       "2             Yes      8  Month-to-month           Electronic check   \n",
       "3             Yes     28  Month-to-month           Electronic check   \n",
       "4             Yes     49  Month-to-month  Bank transfer (automatic)   \n",
       "\n",
       "  PaperlessBilling MonthlyCharges  TotalCharges Churn  \n",
       "0              Yes          53.85        108.15   Yes  \n",
       "1              Yes          70.70        151.65   Yes  \n",
       "2              Yes          99.65         820.5   Yes  \n",
       "3              Yes         104.80       3046.05   Yes  \n",
       "4              Yes         103.70        5036.3   Yes  \n",
       "\n",
       "[5 rows x 25 columns]"
      ]
     },
     "execution_count": 4,
     "metadata": {},
     "output_type": "execute_result"
    }
   ],
   "source": [
    "df.head()"
   ]
  },
  {
   "cell_type": "markdown",
   "id": "0ea6098e",
   "metadata": {},
   "source": [
    "## 1. For those customers who unsubscribed the service, what was their average LTV? and how long did they usually stay in the service?"
   ]
  },
  {
   "cell_type": "code",
   "execution_count": 5,
   "id": "fbd42fb3",
   "metadata": {},
   "outputs": [],
   "source": [
    "## Extract those who unsubscribed the serviced (Churn = Yes)\n",
    "\n",
    "churn_df = pd.read_sql(\"select * from churn_all where Churn = 'Yes'\", conn)"
   ]
  },
  {
   "cell_type": "code",
   "execution_count": 6,
   "id": "7ff1c96d",
   "metadata": {},
   "outputs": [
    {
     "data": {
      "text/plain": [
       "count    1869.000000\n",
       "mean     1531.796094\n",
       "std      1890.822994\n",
       "min        18.850000\n",
       "25%       134.500000\n",
       "50%       703.550000\n",
       "75%      2331.300000\n",
       "max      8684.800000\n",
       "Name: TotalCharges, dtype: float64"
      ]
     },
     "execution_count": 6,
     "metadata": {},
     "output_type": "execute_result"
    }
   ],
   "source": [
    "# Examine the distribution of TotalCharges\n",
    "churn_df['TotalCharges'] = churn_df['TotalCharges'].astype(float)\n",
    "churn_df[\"TotalCharges\"].describe()"
   ]
  },
  {
   "cell_type": "markdown",
   "id": "7dfef56c",
   "metadata": {},
   "source": [
    "We can see that around 20% of the TotalCharges are very high, so let's divide the data to see each distribution."
   ]
  },
  {
   "cell_type": "code",
   "execution_count": 7,
   "id": "80c9a38d",
   "metadata": {},
   "outputs": [
    {
     "data": {
      "text/plain": [
       "2840.4100000000003"
      ]
     },
     "execution_count": 7,
     "metadata": {},
     "output_type": "execute_result"
    }
   ],
   "source": [
    "# Find the 80th percentile of the data in TotalCharges\n",
    "churn_df.TotalCharges.quantile(0.8)"
   ]
  },
  {
   "cell_type": "code",
   "execution_count": 8,
   "id": "3a47c209",
   "metadata": {},
   "outputs": [
    {
     "data": {
      "text/html": [
       "<div>\n",
       "<style scoped>\n",
       "    .dataframe tbody tr th:only-of-type {\n",
       "        vertical-align: middle;\n",
       "    }\n",
       "\n",
       "    .dataframe tbody tr th {\n",
       "        vertical-align: top;\n",
       "    }\n",
       "\n",
       "    .dataframe thead th {\n",
       "        text-align: right;\n",
       "    }\n",
       "</style>\n",
       "<table border=\"1\" class=\"dataframe\">\n",
       "  <thead>\n",
       "    <tr style=\"text-align: right;\">\n",
       "      <th></th>\n",
       "      <th>CustomerID</th>\n",
       "      <th>Gender</th>\n",
       "      <th>SeniorCitizen</th>\n",
       "      <th>Partner</th>\n",
       "      <th>Dependents</th>\n",
       "      <th>State</th>\n",
       "      <th>Latitude</th>\n",
       "      <th>Longitude</th>\n",
       "      <th>ZipCode</th>\n",
       "      <th>PhoneService</th>\n",
       "      <th>...</th>\n",
       "      <th>TechSupport</th>\n",
       "      <th>StreamingTV</th>\n",
       "      <th>StreamingMovies</th>\n",
       "      <th>Tenure</th>\n",
       "      <th>Contract</th>\n",
       "      <th>PaymentMethod</th>\n",
       "      <th>PaperlessBilling</th>\n",
       "      <th>MonthlyCharges</th>\n",
       "      <th>TotalCharges</th>\n",
       "      <th>Churn</th>\n",
       "    </tr>\n",
       "  </thead>\n",
       "  <tbody>\n",
       "    <tr>\n",
       "      <th>0</th>\n",
       "      <td>3668-QPYBK</td>\n",
       "      <td>Male</td>\n",
       "      <td>No</td>\n",
       "      <td>No</td>\n",
       "      <td>No</td>\n",
       "      <td>California</td>\n",
       "      <td>33.964131</td>\n",
       "      <td>-118.272783</td>\n",
       "      <td>90003</td>\n",
       "      <td>Yes</td>\n",
       "      <td>...</td>\n",
       "      <td>No</td>\n",
       "      <td>No</td>\n",
       "      <td>No</td>\n",
       "      <td>2</td>\n",
       "      <td>Month-to-month</td>\n",
       "      <td>Mailed check</td>\n",
       "      <td>Yes</td>\n",
       "      <td>53.85</td>\n",
       "      <td>108.15</td>\n",
       "      <td>Yes</td>\n",
       "    </tr>\n",
       "    <tr>\n",
       "      <th>1</th>\n",
       "      <td>9237-HQITU</td>\n",
       "      <td>Female</td>\n",
       "      <td>No</td>\n",
       "      <td>No</td>\n",
       "      <td>Yes</td>\n",
       "      <td>California</td>\n",
       "      <td>34.059281</td>\n",
       "      <td>-118.307420</td>\n",
       "      <td>90005</td>\n",
       "      <td>Yes</td>\n",
       "      <td>...</td>\n",
       "      <td>No</td>\n",
       "      <td>No</td>\n",
       "      <td>No</td>\n",
       "      <td>2</td>\n",
       "      <td>Month-to-month</td>\n",
       "      <td>Electronic check</td>\n",
       "      <td>Yes</td>\n",
       "      <td>70.70</td>\n",
       "      <td>151.65</td>\n",
       "      <td>Yes</td>\n",
       "    </tr>\n",
       "    <tr>\n",
       "      <th>2</th>\n",
       "      <td>1066-JKSGK</td>\n",
       "      <td>Male</td>\n",
       "      <td>No</td>\n",
       "      <td>No</td>\n",
       "      <td>No</td>\n",
       "      <td>California</td>\n",
       "      <td>34.066303</td>\n",
       "      <td>-118.435479</td>\n",
       "      <td>90024</td>\n",
       "      <td>Yes</td>\n",
       "      <td>...</td>\n",
       "      <td>No internet service</td>\n",
       "      <td>No internet service</td>\n",
       "      <td>No internet service</td>\n",
       "      <td>1</td>\n",
       "      <td>Month-to-month</td>\n",
       "      <td>Mailed check</td>\n",
       "      <td>No</td>\n",
       "      <td>20.15</td>\n",
       "      <td>20.15</td>\n",
       "      <td>Yes</td>\n",
       "    </tr>\n",
       "    <tr>\n",
       "      <th>3</th>\n",
       "      <td>8773-HHUOZ</td>\n",
       "      <td>Female</td>\n",
       "      <td>No</td>\n",
       "      <td>No</td>\n",
       "      <td>No</td>\n",
       "      <td>California</td>\n",
       "      <td>34.078821</td>\n",
       "      <td>-118.177576</td>\n",
       "      <td>90032</td>\n",
       "      <td>Yes</td>\n",
       "      <td>...</td>\n",
       "      <td>No</td>\n",
       "      <td>Yes</td>\n",
       "      <td>Yes</td>\n",
       "      <td>17</td>\n",
       "      <td>Month-to-month</td>\n",
       "      <td>Mailed check</td>\n",
       "      <td>Yes</td>\n",
       "      <td>64.70</td>\n",
       "      <td>1093.1</td>\n",
       "      <td>Yes</td>\n",
       "    </tr>\n",
       "    <tr>\n",
       "      <th>4</th>\n",
       "      <td>8168-UQWWF</td>\n",
       "      <td>Female</td>\n",
       "      <td>No</td>\n",
       "      <td>No</td>\n",
       "      <td>Yes</td>\n",
       "      <td>California</td>\n",
       "      <td>34.115720</td>\n",
       "      <td>-118.192754</td>\n",
       "      <td>90042</td>\n",
       "      <td>Yes</td>\n",
       "      <td>...</td>\n",
       "      <td>No</td>\n",
       "      <td>Yes</td>\n",
       "      <td>Yes</td>\n",
       "      <td>11</td>\n",
       "      <td>Month-to-month</td>\n",
       "      <td>Bank transfer (automatic)</td>\n",
       "      <td>Yes</td>\n",
       "      <td>97.85</td>\n",
       "      <td>1105.4</td>\n",
       "      <td>Yes</td>\n",
       "    </tr>\n",
       "    <tr>\n",
       "      <th>...</th>\n",
       "      <td>...</td>\n",
       "      <td>...</td>\n",
       "      <td>...</td>\n",
       "      <td>...</td>\n",
       "      <td>...</td>\n",
       "      <td>...</td>\n",
       "      <td>...</td>\n",
       "      <td>...</td>\n",
       "      <td>...</td>\n",
       "      <td>...</td>\n",
       "      <td>...</td>\n",
       "      <td>...</td>\n",
       "      <td>...</td>\n",
       "      <td>...</td>\n",
       "      <td>...</td>\n",
       "      <td>...</td>\n",
       "      <td>...</td>\n",
       "      <td>...</td>\n",
       "      <td>...</td>\n",
       "      <td>...</td>\n",
       "      <td>...</td>\n",
       "    </tr>\n",
       "    <tr>\n",
       "      <th>2696</th>\n",
       "      <td>2235-DWLJU</td>\n",
       "      <td>Female</td>\n",
       "      <td>Yes</td>\n",
       "      <td>No</td>\n",
       "      <td>No</td>\n",
       "      <td>California</td>\n",
       "      <td>33.849263</td>\n",
       "      <td>-116.382778</td>\n",
       "      <td>92276</td>\n",
       "      <td>No</td>\n",
       "      <td>...</td>\n",
       "      <td>No</td>\n",
       "      <td>Yes</td>\n",
       "      <td>Yes</td>\n",
       "      <td>6</td>\n",
       "      <td>Month-to-month</td>\n",
       "      <td>Electronic check</td>\n",
       "      <td>Yes</td>\n",
       "      <td>44.40</td>\n",
       "      <td>263.05</td>\n",
       "      <td>No</td>\n",
       "    </tr>\n",
       "    <tr>\n",
       "      <th>2697</th>\n",
       "      <td>9767-FFLEM</td>\n",
       "      <td>Male</td>\n",
       "      <td>No</td>\n",
       "      <td>No</td>\n",
       "      <td>No</td>\n",
       "      <td>California</td>\n",
       "      <td>33.036790</td>\n",
       "      <td>-115.605030</td>\n",
       "      <td>92281</td>\n",
       "      <td>Yes</td>\n",
       "      <td>...</td>\n",
       "      <td>No</td>\n",
       "      <td>No</td>\n",
       "      <td>No</td>\n",
       "      <td>38</td>\n",
       "      <td>Month-to-month</td>\n",
       "      <td>Credit card (automatic)</td>\n",
       "      <td>Yes</td>\n",
       "      <td>69.50</td>\n",
       "      <td>2625.25</td>\n",
       "      <td>No</td>\n",
       "    </tr>\n",
       "    <tr>\n",
       "      <th>2698</th>\n",
       "      <td>8456-QDAVC</td>\n",
       "      <td>Male</td>\n",
       "      <td>No</td>\n",
       "      <td>No</td>\n",
       "      <td>No</td>\n",
       "      <td>California</td>\n",
       "      <td>32.852947</td>\n",
       "      <td>-114.850784</td>\n",
       "      <td>92283</td>\n",
       "      <td>Yes</td>\n",
       "      <td>...</td>\n",
       "      <td>No</td>\n",
       "      <td>Yes</td>\n",
       "      <td>No</td>\n",
       "      <td>19</td>\n",
       "      <td>Month-to-month</td>\n",
       "      <td>Bank transfer (automatic)</td>\n",
       "      <td>Yes</td>\n",
       "      <td>78.70</td>\n",
       "      <td>1495.1</td>\n",
       "      <td>No</td>\n",
       "    </tr>\n",
       "    <tr>\n",
       "      <th>2699</th>\n",
       "      <td>2569-WGERO</td>\n",
       "      <td>Female</td>\n",
       "      <td>No</td>\n",
       "      <td>No</td>\n",
       "      <td>No</td>\n",
       "      <td>California</td>\n",
       "      <td>34.341737</td>\n",
       "      <td>-116.539416</td>\n",
       "      <td>92285</td>\n",
       "      <td>Yes</td>\n",
       "      <td>...</td>\n",
       "      <td>No internet service</td>\n",
       "      <td>No internet service</td>\n",
       "      <td>No internet service</td>\n",
       "      <td>72</td>\n",
       "      <td>Two year</td>\n",
       "      <td>Bank transfer (automatic)</td>\n",
       "      <td>Yes</td>\n",
       "      <td>21.15</td>\n",
       "      <td>1419.4</td>\n",
       "      <td>No</td>\n",
       "    </tr>\n",
       "    <tr>\n",
       "      <th>2700</th>\n",
       "      <td>6840-RESVB</td>\n",
       "      <td>Male</td>\n",
       "      <td>No</td>\n",
       "      <td>Yes</td>\n",
       "      <td>Yes</td>\n",
       "      <td>California</td>\n",
       "      <td>34.667815</td>\n",
       "      <td>-117.536183</td>\n",
       "      <td>92301</td>\n",
       "      <td>Yes</td>\n",
       "      <td>...</td>\n",
       "      <td>Yes</td>\n",
       "      <td>Yes</td>\n",
       "      <td>Yes</td>\n",
       "      <td>24</td>\n",
       "      <td>One year</td>\n",
       "      <td>Mailed check</td>\n",
       "      <td>Yes</td>\n",
       "      <td>84.80</td>\n",
       "      <td>1990.5</td>\n",
       "      <td>No</td>\n",
       "    </tr>\n",
       "  </tbody>\n",
       "</table>\n",
       "<p>2701 rows × 25 columns</p>\n",
       "</div>"
      ],
      "text/plain": [
       "      CustomerID  Gender SeniorCitizen Partner Dependents       State  \\\n",
       "0     3668-QPYBK    Male            No      No         No  California   \n",
       "1     9237-HQITU  Female            No      No        Yes  California   \n",
       "2     1066-JKSGK    Male            No      No         No  California   \n",
       "3     8773-HHUOZ  Female            No      No         No  California   \n",
       "4     8168-UQWWF  Female            No      No        Yes  California   \n",
       "...          ...     ...           ...     ...        ...         ...   \n",
       "2696  2235-DWLJU  Female           Yes      No         No  California   \n",
       "2697  9767-FFLEM    Male            No      No         No  California   \n",
       "2698  8456-QDAVC    Male            No      No         No  California   \n",
       "2699  2569-WGERO  Female            No      No         No  California   \n",
       "2700  6840-RESVB    Male            No     Yes        Yes  California   \n",
       "\n",
       "       Latitude   Longitude  ZipCode PhoneService  ...          TechSupport  \\\n",
       "0     33.964131 -118.272783    90003          Yes  ...                   No   \n",
       "1     34.059281 -118.307420    90005          Yes  ...                   No   \n",
       "2     34.066303 -118.435479    90024          Yes  ...  No internet service   \n",
       "3     34.078821 -118.177576    90032          Yes  ...                   No   \n",
       "4     34.115720 -118.192754    90042          Yes  ...                   No   \n",
       "...         ...         ...      ...          ...  ...                  ...   \n",
       "2696  33.849263 -116.382778    92276           No  ...                   No   \n",
       "2697  33.036790 -115.605030    92281          Yes  ...                   No   \n",
       "2698  32.852947 -114.850784    92283          Yes  ...                   No   \n",
       "2699  34.341737 -116.539416    92285          Yes  ...  No internet service   \n",
       "2700  34.667815 -117.536183    92301          Yes  ...                  Yes   \n",
       "\n",
       "              StreamingTV      StreamingMovies Tenure        Contract  \\\n",
       "0                      No                   No      2  Month-to-month   \n",
       "1                      No                   No      2  Month-to-month   \n",
       "2     No internet service  No internet service      1  Month-to-month   \n",
       "3                     Yes                  Yes     17  Month-to-month   \n",
       "4                     Yes                  Yes     11  Month-to-month   \n",
       "...                   ...                  ...    ...             ...   \n",
       "2696                  Yes                  Yes      6  Month-to-month   \n",
       "2697                   No                   No     38  Month-to-month   \n",
       "2698                  Yes                   No     19  Month-to-month   \n",
       "2699  No internet service  No internet service     72        Two year   \n",
       "2700                  Yes                  Yes     24        One year   \n",
       "\n",
       "                  PaymentMethod PaperlessBilling MonthlyCharges  TotalCharges  \\\n",
       "0                  Mailed check              Yes          53.85        108.15   \n",
       "1              Electronic check              Yes          70.70        151.65   \n",
       "2                  Mailed check               No          20.15         20.15   \n",
       "3                  Mailed check              Yes          64.70        1093.1   \n",
       "4     Bank transfer (automatic)              Yes          97.85        1105.4   \n",
       "...                         ...              ...            ...           ...   \n",
       "2696           Electronic check              Yes          44.40        263.05   \n",
       "2697    Credit card (automatic)              Yes          69.50       2625.25   \n",
       "2698  Bank transfer (automatic)              Yes          78.70        1495.1   \n",
       "2699  Bank transfer (automatic)              Yes          21.15        1419.4   \n",
       "2700               Mailed check              Yes          84.80        1990.5   \n",
       "\n",
       "     Churn  \n",
       "0      Yes  \n",
       "1      Yes  \n",
       "2      Yes  \n",
       "3      Yes  \n",
       "4      Yes  \n",
       "...    ...  \n",
       "2696    No  \n",
       "2697    No  \n",
       "2698    No  \n",
       "2699    No  \n",
       "2700    No  \n",
       "\n",
       "[2701 rows x 25 columns]"
      ]
     },
     "execution_count": 8,
     "metadata": {},
     "output_type": "execute_result"
    }
   ],
   "source": [
    "pd.read_sql(\"select * from churn_all where TotalCharges <= 2840.41\", conn)"
   ]
  },
  {
   "cell_type": "code",
   "execution_count": 9,
   "id": "a4e94388",
   "metadata": {},
   "outputs": [
    {
     "data": {
      "text/html": [
       "<div>\n",
       "<style scoped>\n",
       "    .dataframe tbody tr th:only-of-type {\n",
       "        vertical-align: middle;\n",
       "    }\n",
       "\n",
       "    .dataframe tbody tr th {\n",
       "        vertical-align: top;\n",
       "    }\n",
       "\n",
       "    .dataframe thead th {\n",
       "        text-align: right;\n",
       "    }\n",
       "</style>\n",
       "<table border=\"1\" class=\"dataframe\">\n",
       "  <thead>\n",
       "    <tr style=\"text-align: right;\">\n",
       "      <th></th>\n",
       "      <th>CustomerID</th>\n",
       "      <th>Gender</th>\n",
       "      <th>SeniorCitizen</th>\n",
       "      <th>Partner</th>\n",
       "      <th>Dependents</th>\n",
       "      <th>State</th>\n",
       "      <th>Latitude</th>\n",
       "      <th>Longitude</th>\n",
       "      <th>ZipCode</th>\n",
       "      <th>PhoneService</th>\n",
       "      <th>...</th>\n",
       "      <th>TechSupport</th>\n",
       "      <th>StreamingTV</th>\n",
       "      <th>StreamingMovies</th>\n",
       "      <th>Tenure</th>\n",
       "      <th>Contract</th>\n",
       "      <th>PaymentMethod</th>\n",
       "      <th>PaperlessBilling</th>\n",
       "      <th>MonthlyCharges</th>\n",
       "      <th>TotalCharges</th>\n",
       "      <th>Churn</th>\n",
       "    </tr>\n",
       "  </thead>\n",
       "  <tbody>\n",
       "    <tr>\n",
       "      <th>0</th>\n",
       "      <td>3668-QPYBK</td>\n",
       "      <td>Male</td>\n",
       "      <td>No</td>\n",
       "      <td>No</td>\n",
       "      <td>No</td>\n",
       "      <td>California</td>\n",
       "      <td>33.964131</td>\n",
       "      <td>-118.272783</td>\n",
       "      <td>90003</td>\n",
       "      <td>Yes</td>\n",
       "      <td>...</td>\n",
       "      <td>No</td>\n",
       "      <td>No</td>\n",
       "      <td>No</td>\n",
       "      <td>2</td>\n",
       "      <td>Month-to-month</td>\n",
       "      <td>Mailed check</td>\n",
       "      <td>Yes</td>\n",
       "      <td>53.85</td>\n",
       "      <td>108.15</td>\n",
       "      <td>Yes</td>\n",
       "    </tr>\n",
       "    <tr>\n",
       "      <th>1</th>\n",
       "      <td>9237-HQITU</td>\n",
       "      <td>Female</td>\n",
       "      <td>No</td>\n",
       "      <td>No</td>\n",
       "      <td>Yes</td>\n",
       "      <td>California</td>\n",
       "      <td>34.059281</td>\n",
       "      <td>-118.307420</td>\n",
       "      <td>90005</td>\n",
       "      <td>Yes</td>\n",
       "      <td>...</td>\n",
       "      <td>No</td>\n",
       "      <td>No</td>\n",
       "      <td>No</td>\n",
       "      <td>2</td>\n",
       "      <td>Month-to-month</td>\n",
       "      <td>Electronic check</td>\n",
       "      <td>Yes</td>\n",
       "      <td>70.70</td>\n",
       "      <td>151.65</td>\n",
       "      <td>Yes</td>\n",
       "    </tr>\n",
       "    <tr>\n",
       "      <th>2</th>\n",
       "      <td>9305-CDSKC</td>\n",
       "      <td>Female</td>\n",
       "      <td>No</td>\n",
       "      <td>No</td>\n",
       "      <td>Yes</td>\n",
       "      <td>California</td>\n",
       "      <td>34.048013</td>\n",
       "      <td>-118.293953</td>\n",
       "      <td>90006</td>\n",
       "      <td>Yes</td>\n",
       "      <td>...</td>\n",
       "      <td>No</td>\n",
       "      <td>Yes</td>\n",
       "      <td>Yes</td>\n",
       "      <td>8</td>\n",
       "      <td>Month-to-month</td>\n",
       "      <td>Electronic check</td>\n",
       "      <td>Yes</td>\n",
       "      <td>99.65</td>\n",
       "      <td>820.50</td>\n",
       "      <td>Yes</td>\n",
       "    </tr>\n",
       "    <tr>\n",
       "      <th>5</th>\n",
       "      <td>4190-MFLUW</td>\n",
       "      <td>Female</td>\n",
       "      <td>No</td>\n",
       "      <td>Yes</td>\n",
       "      <td>No</td>\n",
       "      <td>California</td>\n",
       "      <td>34.066367</td>\n",
       "      <td>-118.309868</td>\n",
       "      <td>90020</td>\n",
       "      <td>Yes</td>\n",
       "      <td>...</td>\n",
       "      <td>Yes</td>\n",
       "      <td>No</td>\n",
       "      <td>No</td>\n",
       "      <td>10</td>\n",
       "      <td>Month-to-month</td>\n",
       "      <td>Credit card (automatic)</td>\n",
       "      <td>No</td>\n",
       "      <td>55.20</td>\n",
       "      <td>528.35</td>\n",
       "      <td>Yes</td>\n",
       "    </tr>\n",
       "    <tr>\n",
       "      <th>6</th>\n",
       "      <td>8779-QRDMV</td>\n",
       "      <td>Male</td>\n",
       "      <td>Yes</td>\n",
       "      <td>No</td>\n",
       "      <td>No</td>\n",
       "      <td>California</td>\n",
       "      <td>34.023810</td>\n",
       "      <td>-118.156582</td>\n",
       "      <td>90022</td>\n",
       "      <td>No</td>\n",
       "      <td>...</td>\n",
       "      <td>No</td>\n",
       "      <td>No</td>\n",
       "      <td>Yes</td>\n",
       "      <td>1</td>\n",
       "      <td>Month-to-month</td>\n",
       "      <td>Electronic check</td>\n",
       "      <td>Yes</td>\n",
       "      <td>39.65</td>\n",
       "      <td>39.65</td>\n",
       "      <td>Yes</td>\n",
       "    </tr>\n",
       "    <tr>\n",
       "      <th>...</th>\n",
       "      <td>...</td>\n",
       "      <td>...</td>\n",
       "      <td>...</td>\n",
       "      <td>...</td>\n",
       "      <td>...</td>\n",
       "      <td>...</td>\n",
       "      <td>...</td>\n",
       "      <td>...</td>\n",
       "      <td>...</td>\n",
       "      <td>...</td>\n",
       "      <td>...</td>\n",
       "      <td>...</td>\n",
       "      <td>...</td>\n",
       "      <td>...</td>\n",
       "      <td>...</td>\n",
       "      <td>...</td>\n",
       "      <td>...</td>\n",
       "      <td>...</td>\n",
       "      <td>...</td>\n",
       "      <td>...</td>\n",
       "      <td>...</td>\n",
       "    </tr>\n",
       "    <tr>\n",
       "      <th>1863</th>\n",
       "      <td>1122-JWTJW</td>\n",
       "      <td>Male</td>\n",
       "      <td>No</td>\n",
       "      <td>Yes</td>\n",
       "      <td>Yes</td>\n",
       "      <td>California</td>\n",
       "      <td>32.698964</td>\n",
       "      <td>-115.886656</td>\n",
       "      <td>92259</td>\n",
       "      <td>Yes</td>\n",
       "      <td>...</td>\n",
       "      <td>No</td>\n",
       "      <td>No</td>\n",
       "      <td>No</td>\n",
       "      <td>1</td>\n",
       "      <td>Month-to-month</td>\n",
       "      <td>Mailed check</td>\n",
       "      <td>Yes</td>\n",
       "      <td>70.65</td>\n",
       "      <td>70.65</td>\n",
       "      <td>Yes</td>\n",
       "    </tr>\n",
       "    <tr>\n",
       "      <th>1864</th>\n",
       "      <td>1699-HPSBG</td>\n",
       "      <td>Male</td>\n",
       "      <td>No</td>\n",
       "      <td>No</td>\n",
       "      <td>No</td>\n",
       "      <td>California</td>\n",
       "      <td>33.745746</td>\n",
       "      <td>-116.514215</td>\n",
       "      <td>92264</td>\n",
       "      <td>Yes</td>\n",
       "      <td>...</td>\n",
       "      <td>Yes</td>\n",
       "      <td>Yes</td>\n",
       "      <td>No</td>\n",
       "      <td>12</td>\n",
       "      <td>One year</td>\n",
       "      <td>Electronic check</td>\n",
       "      <td>Yes</td>\n",
       "      <td>59.80</td>\n",
       "      <td>727.80</td>\n",
       "      <td>Yes</td>\n",
       "    </tr>\n",
       "    <tr>\n",
       "      <th>1865</th>\n",
       "      <td>8775-CEBBJ</td>\n",
       "      <td>Female</td>\n",
       "      <td>No</td>\n",
       "      <td>No</td>\n",
       "      <td>No</td>\n",
       "      <td>California</td>\n",
       "      <td>32.790282</td>\n",
       "      <td>-115.689559</td>\n",
       "      <td>92273</td>\n",
       "      <td>Yes</td>\n",
       "      <td>...</td>\n",
       "      <td>No</td>\n",
       "      <td>No</td>\n",
       "      <td>No</td>\n",
       "      <td>9</td>\n",
       "      <td>Month-to-month</td>\n",
       "      <td>Bank transfer (automatic)</td>\n",
       "      <td>Yes</td>\n",
       "      <td>44.20</td>\n",
       "      <td>403.35</td>\n",
       "      <td>Yes</td>\n",
       "    </tr>\n",
       "    <tr>\n",
       "      <th>1866</th>\n",
       "      <td>6894-LFHLY</td>\n",
       "      <td>Male</td>\n",
       "      <td>Yes</td>\n",
       "      <td>No</td>\n",
       "      <td>No</td>\n",
       "      <td>California</td>\n",
       "      <td>34.264124</td>\n",
       "      <td>-114.717964</td>\n",
       "      <td>92280</td>\n",
       "      <td>Yes</td>\n",
       "      <td>...</td>\n",
       "      <td>No</td>\n",
       "      <td>No</td>\n",
       "      <td>No</td>\n",
       "      <td>1</td>\n",
       "      <td>Month-to-month</td>\n",
       "      <td>Electronic check</td>\n",
       "      <td>Yes</td>\n",
       "      <td>75.75</td>\n",
       "      <td>75.75</td>\n",
       "      <td>Yes</td>\n",
       "    </tr>\n",
       "    <tr>\n",
       "      <th>1868</th>\n",
       "      <td>8361-LTMKD</td>\n",
       "      <td>Male</td>\n",
       "      <td>Yes</td>\n",
       "      <td>Yes</td>\n",
       "      <td>No</td>\n",
       "      <td>California</td>\n",
       "      <td>34.550820</td>\n",
       "      <td>-117.122396</td>\n",
       "      <td>92307</td>\n",
       "      <td>Yes</td>\n",
       "      <td>...</td>\n",
       "      <td>No</td>\n",
       "      <td>No</td>\n",
       "      <td>No</td>\n",
       "      <td>4</td>\n",
       "      <td>Month-to-month</td>\n",
       "      <td>Mailed check</td>\n",
       "      <td>Yes</td>\n",
       "      <td>74.40</td>\n",
       "      <td>306.60</td>\n",
       "      <td>Yes</td>\n",
       "    </tr>\n",
       "  </tbody>\n",
       "</table>\n",
       "<p>1495 rows × 25 columns</p>\n",
       "</div>"
      ],
      "text/plain": [
       "      CustomerID  Gender SeniorCitizen Partner Dependents       State  \\\n",
       "0     3668-QPYBK    Male            No      No         No  California   \n",
       "1     9237-HQITU  Female            No      No        Yes  California   \n",
       "2     9305-CDSKC  Female            No      No        Yes  California   \n",
       "5     4190-MFLUW  Female            No     Yes         No  California   \n",
       "6     8779-QRDMV    Male           Yes      No         No  California   \n",
       "...          ...     ...           ...     ...        ...         ...   \n",
       "1863  1122-JWTJW    Male            No     Yes        Yes  California   \n",
       "1864  1699-HPSBG    Male            No      No         No  California   \n",
       "1865  8775-CEBBJ  Female            No      No         No  California   \n",
       "1866  6894-LFHLY    Male           Yes      No         No  California   \n",
       "1868  8361-LTMKD    Male           Yes     Yes         No  California   \n",
       "\n",
       "       Latitude   Longitude  ZipCode PhoneService  ... TechSupport  \\\n",
       "0     33.964131 -118.272783    90003          Yes  ...          No   \n",
       "1     34.059281 -118.307420    90005          Yes  ...          No   \n",
       "2     34.048013 -118.293953    90006          Yes  ...          No   \n",
       "5     34.066367 -118.309868    90020          Yes  ...         Yes   \n",
       "6     34.023810 -118.156582    90022           No  ...          No   \n",
       "...         ...         ...      ...          ...  ...         ...   \n",
       "1863  32.698964 -115.886656    92259          Yes  ...          No   \n",
       "1864  33.745746 -116.514215    92264          Yes  ...         Yes   \n",
       "1865  32.790282 -115.689559    92273          Yes  ...          No   \n",
       "1866  34.264124 -114.717964    92280          Yes  ...          No   \n",
       "1868  34.550820 -117.122396    92307          Yes  ...          No   \n",
       "\n",
       "     StreamingTV StreamingMovies Tenure        Contract  \\\n",
       "0             No              No      2  Month-to-month   \n",
       "1             No              No      2  Month-to-month   \n",
       "2            Yes             Yes      8  Month-to-month   \n",
       "5             No              No     10  Month-to-month   \n",
       "6             No             Yes      1  Month-to-month   \n",
       "...          ...             ...    ...             ...   \n",
       "1863          No              No      1  Month-to-month   \n",
       "1864         Yes              No     12        One year   \n",
       "1865          No              No      9  Month-to-month   \n",
       "1866          No              No      1  Month-to-month   \n",
       "1868          No              No      4  Month-to-month   \n",
       "\n",
       "                  PaymentMethod PaperlessBilling MonthlyCharges  TotalCharges  \\\n",
       "0                  Mailed check              Yes          53.85        108.15   \n",
       "1              Electronic check              Yes          70.70        151.65   \n",
       "2              Electronic check              Yes          99.65        820.50   \n",
       "5       Credit card (automatic)               No          55.20        528.35   \n",
       "6              Electronic check              Yes          39.65         39.65   \n",
       "...                         ...              ...            ...           ...   \n",
       "1863               Mailed check              Yes          70.65         70.65   \n",
       "1864           Electronic check              Yes          59.80        727.80   \n",
       "1865  Bank transfer (automatic)              Yes          44.20        403.35   \n",
       "1866           Electronic check              Yes          75.75         75.75   \n",
       "1868               Mailed check              Yes          74.40        306.60   \n",
       "\n",
       "     Churn  \n",
       "0      Yes  \n",
       "1      Yes  \n",
       "2      Yes  \n",
       "5      Yes  \n",
       "6      Yes  \n",
       "...    ...  \n",
       "1863   Yes  \n",
       "1864   Yes  \n",
       "1865   Yes  \n",
       "1866   Yes  \n",
       "1868   Yes  \n",
       "\n",
       "[1495 rows x 25 columns]"
      ]
     },
     "execution_count": 9,
     "metadata": {},
     "output_type": "execute_result"
    }
   ],
   "source": [
    "churn_df.query(\"TotalCharges <= 2840.41\")"
   ]
  },
  {
   "cell_type": "code",
   "execution_count": 10,
   "id": "7c199599",
   "metadata": {},
   "outputs": [],
   "source": [
    "# Divide the data by the 80th percentile of the data from the TotalCharges variable\n",
    "total_charges_under80 = churn_df.query(\"TotalCharges <= 2840.41\")\n",
    "total_charges_above80 = churn_df.query(\"TotalCharges > 2840.41\")"
   ]
  },
  {
   "cell_type": "code",
   "execution_count": 11,
   "id": "c4bc40b0",
   "metadata": {},
   "outputs": [
    {
     "data": {
      "text/plain": [
       "count    1495.000000\n",
       "mean      711.265819\n",
       "std       766.848197\n",
       "min        18.850000\n",
       "25%        85.025000\n",
       "50%       371.650000\n",
       "75%      1128.225000\n",
       "max      2839.650000\n",
       "Name: TotalCharges, dtype: float64"
      ]
     },
     "execution_count": 11,
     "metadata": {},
     "output_type": "execute_result"
    }
   ],
   "source": [
    "# Show the distribution of people under the 80th percentile\n",
    "total_charges_under80.TotalCharges.describe()"
   ]
  },
  {
   "cell_type": "code",
   "execution_count": 12,
   "id": "4c87c3d0",
   "metadata": {},
   "outputs": [
    {
     "data": {
      "text/plain": [
       "count     374.000000\n",
       "mean     4811.723262\n",
       "std      1436.724288\n",
       "min      2841.550000\n",
       "25%      3522.462500\n",
       "50%      4571.100000\n",
       "75%      5891.212500\n",
       "max      8684.800000\n",
       "Name: TotalCharges, dtype: float64"
      ]
     },
     "execution_count": 12,
     "metadata": {},
     "output_type": "execute_result"
    }
   ],
   "source": [
    "# Show the distribution of people above the 80th percentile\n",
    "total_charges_above80.TotalCharges.describe()"
   ]
  },
  {
   "cell_type": "code",
   "execution_count": 13,
   "id": "00a5133b",
   "metadata": {},
   "outputs": [
    {
     "data": {
      "text/plain": [
       "count    1495.000000\n",
       "mean        9.935117\n",
       "std        10.742349\n",
       "min         1.000000\n",
       "25%         1.000000\n",
       "50%         6.000000\n",
       "75%        15.000000\n",
       "max        61.000000\n",
       "Name: Tenure, dtype: float64"
      ]
     },
     "execution_count": 13,
     "metadata": {},
     "output_type": "execute_result"
    }
   ],
   "source": [
    "# Show the distribution of the tenure of people under the 80th percentile\n",
    "total_charges_under80.Tenure.describe()"
   ]
  },
  {
   "cell_type": "code",
   "execution_count": 14,
   "id": "9ec99dd9",
   "metadata": {},
   "outputs": [
    {
     "data": {
      "text/plain": [
       "count    374.000000\n",
       "mean      50.133690\n",
       "std       12.334841\n",
       "min       27.000000\n",
       "25%       40.000000\n",
       "50%       49.500000\n",
       "75%       60.000000\n",
       "max       72.000000\n",
       "Name: Tenure, dtype: float64"
      ]
     },
     "execution_count": 14,
     "metadata": {},
     "output_type": "execute_result"
    }
   ],
   "source": [
    "# Show the distribution of the tenure of people above the 80th percentile\n",
    "total_charges_above80.Tenure.describe()"
   ]
  },
  {
   "cell_type": "markdown",
   "id": "bed05e74",
   "metadata": {},
   "source": [
    "The average LTV of the 80% of those who unsubscribed is \\\\$ 711, and their tenure is near 10 months. On the hand, the average LTV of the 20 % of those who unsubscribed is $ 4811, and their tenure is near 50 months.  "
   ]
  },
  {
   "cell_type": "markdown",
   "id": "dfe1d050",
   "metadata": {},
   "source": [
    "## 2. What kinds of services they subscribed when they were still a customer?"
   ]
  },
  {
   "cell_type": "markdown",
   "id": "22d74a63",
   "metadata": {},
   "source": [
    "### PhoneService"
   ]
  },
  {
   "cell_type": "code",
   "execution_count": 15,
   "id": "dfe2f6df",
   "metadata": {},
   "outputs": [
    {
     "data": {
      "text/html": [
       "<div>\n",
       "<style scoped>\n",
       "    .dataframe tbody tr th:only-of-type {\n",
       "        vertical-align: middle;\n",
       "    }\n",
       "\n",
       "    .dataframe tbody tr th {\n",
       "        vertical-align: top;\n",
       "    }\n",
       "\n",
       "    .dataframe thead th {\n",
       "        text-align: right;\n",
       "    }\n",
       "</style>\n",
       "<table border=\"1\" class=\"dataframe\">\n",
       "  <thead>\n",
       "    <tr style=\"text-align: right;\">\n",
       "      <th></th>\n",
       "      <th>count(1)</th>\n",
       "    </tr>\n",
       "  </thead>\n",
       "  <tbody>\n",
       "    <tr>\n",
       "      <th>0</th>\n",
       "      <td>75</td>\n",
       "    </tr>\n",
       "    <tr>\n",
       "      <th>1</th>\n",
       "      <td>659</td>\n",
       "    </tr>\n",
       "  </tbody>\n",
       "</table>\n",
       "</div>"
      ],
      "text/plain": [
       "   count(1)\n",
       "0        75\n",
       "1       659"
      ]
     },
     "execution_count": 15,
     "metadata": {},
     "output_type": "execute_result"
    }
   ],
   "source": [
    "# under 80\n",
    "pd.read_sql(\"select count(1) from churn_all where TotalCharges <= 2840.41 and Churn = 'Yes' group by PhoneService\", conn)"
   ]
  },
  {
   "cell_type": "code",
   "execution_count": 16,
   "id": "f24b2af3",
   "metadata": {},
   "outputs": [
    {
     "data": {
      "text/plain": [
       "Male      3555\n",
       "Female    3488\n",
       "Name: Gender, dtype: int64"
      ]
     },
     "execution_count": 16,
     "metadata": {},
     "output_type": "execute_result"
    }
   ],
   "source": [
    "df[\"Gender\"].value_counts() # example"
   ]
  },
  {
   "cell_type": "code",
   "execution_count": 17,
   "id": "f470769d",
   "metadata": {},
   "outputs": [
    {
     "data": {
      "text/plain": [
       "Yes    1334\n",
       "No      161\n",
       "Name: PhoneService, dtype: int64"
      ]
     },
     "execution_count": 17,
     "metadata": {},
     "output_type": "execute_result"
    }
   ],
   "source": [
    "# under 80\n",
    "total_charges_under80.PhoneService.value_counts()"
   ]
  },
  {
   "cell_type": "code",
   "execution_count": 18,
   "id": "6c47b1a5",
   "metadata": {},
   "outputs": [
    {
     "data": {
      "text/plain": [
       "(7043, 25)"
      ]
     },
     "execution_count": 18,
     "metadata": {},
     "output_type": "execute_result"
    }
   ],
   "source": [
    "# Example of shape\n",
    "df.shape"
   ]
  },
  {
   "cell_type": "code",
   "execution_count": 19,
   "id": "31218cde",
   "metadata": {},
   "outputs": [
    {
     "data": {
      "text/plain": [
       "Yes    0.892308\n",
       "No     0.107692\n",
       "Name: PhoneService, dtype: float64"
      ]
     },
     "execution_count": 19,
     "metadata": {},
     "output_type": "execute_result"
    }
   ],
   "source": [
    "# Under 80 (percentage)\n",
    "total_charges_under80.PhoneService.value_counts() / total_charges_under80.shape[0]"
   ]
  },
  {
   "cell_type": "code",
   "execution_count": 20,
   "id": "5976a4eb",
   "metadata": {},
   "outputs": [
    {
     "data": {
      "text/plain": [
       "Yes    0.975936\n",
       "No     0.024064\n",
       "Name: PhoneService, dtype: float64"
      ]
     },
     "execution_count": 20,
     "metadata": {},
     "output_type": "execute_result"
    }
   ],
   "source": [
    "# Above 80 (percentage)\n",
    "total_charges_above80.PhoneService.value_counts() / total_charges_above80.shape[0]"
   ]
  },
  {
   "cell_type": "markdown",
   "id": "ecdd2e2f",
   "metadata": {},
   "source": [
    "For the top 20% (high LTV) only 2% of them didn't use the phone service. On the other hand, lower 80% (LTV) had around 11% of the people that didn't use the phone service. That is around 5 times more as the top 20%. Apparently if you are not subscribed to the phone service you are more likely to be in the bottom 80% of the LTV. We as a company can try to sell this service to more people."
   ]
  },
  {
   "cell_type": "markdown",
   "id": "59564b99",
   "metadata": {},
   "source": [
    "### Multiple Lines"
   ]
  },
  {
   "cell_type": "code",
   "execution_count": 21,
   "id": "784caa3f",
   "metadata": {},
   "outputs": [
    {
     "data": {
      "text/plain": [
       "No     0.590705\n",
       "Yes    0.409295\n",
       "Name: MultipleLines, dtype: float64"
      ]
     },
     "execution_count": 21,
     "metadata": {},
     "output_type": "execute_result"
    }
   ],
   "source": [
    "total_charges_under80_use_phone = total_charges_under80.query(\"PhoneService == 'Yes'\")\n",
    "\n",
    "total_charges_under80_use_phone.MultipleLines.value_counts() / total_charges_under80_use_phone.shape[0]"
   ]
  },
  {
   "cell_type": "code",
   "execution_count": 22,
   "id": "c69fba3c",
   "metadata": {},
   "outputs": [
    {
     "data": {
      "text/plain": [
       "Yes    0.832877\n",
       "No     0.167123\n",
       "Name: MultipleLines, dtype: float64"
      ]
     },
     "execution_count": 22,
     "metadata": {},
     "output_type": "execute_result"
    }
   ],
   "source": [
    "total_charges_above80_use_phone = total_charges_above80.query(\"PhoneService == 'Yes'\")\n",
    "\n",
    "total_charges_above80_use_phone.MultipleLines.value_counts() / total_charges_above80_use_phone.shape[0]"
   ]
  },
  {
   "cell_type": "markdown",
   "id": "b17c7651",
   "metadata": {},
   "source": [
    "For the top 20% of LTV who used the phone service 84% of them used multiple lines, which is 2 times as much as the proportion of people in the low 80% LTV that is around 40%. Having multiple lines is going to get you closer to be in the top 20% of the LTV."
   ]
  },
  {
   "cell_type": "markdown",
   "id": "275b542e",
   "metadata": {},
   "source": [
    "### InternetService"
   ]
  },
  {
   "cell_type": "code",
   "execution_count": 23,
   "id": "86d4fa6f",
   "metadata": {},
   "outputs": [
    {
     "data": {
      "text/plain": [
       "Fiber optic    0.640803\n",
       "DSL            0.283612\n",
       "No             0.075585\n",
       "Name: InternetService, dtype: float64"
      ]
     },
     "execution_count": 23,
     "metadata": {},
     "output_type": "execute_result"
    }
   ],
   "source": [
    "# Under 80 (percentage)\n",
    "total_charges_under80.InternetService.value_counts() / total_charges_under80.shape[0]"
   ]
  },
  {
   "cell_type": "code",
   "execution_count": 24,
   "id": "eeeaff45",
   "metadata": {},
   "outputs": [
    {
     "data": {
      "text/plain": [
       "Fiber optic    0.906417\n",
       "DSL            0.093583\n",
       "Name: InternetService, dtype: float64"
      ]
     },
     "execution_count": 24,
     "metadata": {},
     "output_type": "execute_result"
    }
   ],
   "source": [
    "# Above 80 (percentage)\n",
    "total_charges_above80.InternetService.value_counts() / total_charges_above80.shape[0]"
   ]
  },
  {
   "cell_type": "markdown",
   "id": "ce0640bd",
   "metadata": {},
   "source": [
    "All the people in the high 20% LTV used internet service. On the other hand 8% of the people in the low 80th percentile of the LTV did not have internet connection. Also, in the top 20% (high LTV) 90% of them had fiber optic, in comparison to only 64% in the low LTV. So as a company if we want to increase the LTV of customers, we should recommend using internet and Fiber Optic connection."
   ]
  },
  {
   "cell_type": "markdown",
   "id": "649edbd5",
   "metadata": {},
   "source": [
    "### Other services"
   ]
  },
  {
   "cell_type": "code",
   "execution_count": 25,
   "id": "5582b877",
   "metadata": {},
   "outputs": [],
   "source": [
    "import numpy as np"
   ]
  },
  {
   "cell_type": "code",
   "execution_count": 26,
   "id": "3b565d7d",
   "metadata": {},
   "outputs": [],
   "source": [
    "total_charges_under80_use_internet = total_charges_under80.query('InternetService!=\"No\"')\n",
    "proportion_internet_sub_service_under80 = np.array([total_charges_under80_use_internet.query('OnlineSecurity==\"Yes\"').shape[0]/total_charges_under80_use_internet.shape[0],\n",
    "total_charges_under80_use_internet.query('TechSupport==\"Yes\"').shape[0]/total_charges_under80_use_internet.shape[0],\n",
    "total_charges_under80_use_internet.query('OnlineBackup==\"Yes\"').shape[0]/total_charges_under80_use_internet.shape[0],\n",
    "total_charges_under80_use_internet.query('DeviceProtection==\"Yes\"').shape[0]/total_charges_under80_use_internet.shape[0],\n",
    "total_charges_under80_use_internet.query('StreamingTV==\"Yes\"').shape[0]/total_charges_under80_use_internet.shape[0],\n",
    "total_charges_under80_use_internet.query('StreamingMovies==\"Yes\"').shape[0]/total_charges_under80_use_internet.shape[0]])"
   ]
  },
  {
   "cell_type": "code",
   "execution_count": 27,
   "id": "c46da501",
   "metadata": {},
   "outputs": [
    {
     "data": {
      "text/plain": [
       "array([0.1316932 , 0.13603473, 0.22720695, 0.23516643, 0.37698987,\n",
       "       0.3813314 ])"
      ]
     },
     "execution_count": 27,
     "metadata": {},
     "output_type": "execute_result"
    }
   ],
   "source": [
    "proportion_internet_sub_service_under80"
   ]
  },
  {
   "cell_type": "code",
   "execution_count": 28,
   "id": "ee213f2c",
   "metadata": {},
   "outputs": [],
   "source": [
    "total_charges_above80_use_internet = total_charges_above80.query('InternetService!=\"No\"')\n",
    "proportion_internet_sub_service_above80 = np.array([total_charges_above80_use_internet.query('OnlineSecurity==\"Yes\"').shape[0]/total_charges_above80_use_internet.shape[0],\n",
    "total_charges_above80_use_internet.query('TechSupport==\"Yes\"').shape[0]/total_charges_above80_use_internet.shape[0],\n",
    "total_charges_above80_use_internet.query('OnlineBackup==\"Yes\"').shape[0]/total_charges_above80_use_internet.shape[0],\n",
    "total_charges_above80_use_internet.query('DeviceProtection==\"Yes\"').shape[0]/total_charges_above80_use_internet.shape[0],\n",
    "total_charges_above80_use_internet.query('StreamingTV==\"Yes\"').shape[0]/total_charges_above80_use_internet.shape[0],\n",
    "total_charges_above80_use_internet.query('StreamingMovies==\"Yes\"').shape[0]/total_charges_above80_use_internet.shape[0]])"
   ]
  },
  {
   "cell_type": "code",
   "execution_count": 29,
   "id": "76eb5671",
   "metadata": {},
   "outputs": [
    {
     "data": {
      "text/plain": [
       "array([0.30213904, 0.32620321, 0.55882353, 0.58823529, 0.78342246,\n",
       "       0.77807487])"
      ]
     },
     "execution_count": 29,
     "metadata": {},
     "output_type": "execute_result"
    }
   ],
   "source": [
    "proportion_internet_sub_service_above80"
   ]
  },
  {
   "cell_type": "markdown",
   "id": "280da49b",
   "metadata": {},
   "source": [
    "In the top 20% LTV, both streaming movies and streaming tv percentages are around 80%, in comparison in the low 80% LTV they are around 40%. Device protection and online backup for the top 20% LTV are around 55%, in comparison to only around 22% in the low LTV. As a company we would like to sell to customers streaming TV and movies and also online backup and device protection if we want to increase LTV."
   ]
  },
  {
   "cell_type": "markdown",
   "id": "59edbe6f",
   "metadata": {},
   "source": [
    "## 3. For those who churned what is the proportion of each kind of contract?"
   ]
  },
  {
   "cell_type": "code",
   "execution_count": 30,
   "id": "c0e71d38",
   "metadata": {},
   "outputs": [
    {
     "data": {
      "text/plain": [
       "Month-to-month    0.959197\n",
       "One year          0.036789\n",
       "Two year          0.004013\n",
       "Name: Contract, dtype: float64"
      ]
     },
     "execution_count": 30,
     "metadata": {},
     "output_type": "execute_result"
    }
   ],
   "source": [
    "# Under 80 (percentage)\n",
    "total_charges_under80.Contract.value_counts() / total_charges_under80.shape[0]"
   ]
  },
  {
   "cell_type": "code",
   "execution_count": 31,
   "id": "f528688b",
   "metadata": {},
   "outputs": [
    {
     "data": {
      "text/plain": [
       "Month-to-month    0.590909\n",
       "One year          0.296791\n",
       "Two year          0.112299\n",
       "Name: Contract, dtype: float64"
      ]
     },
     "execution_count": 31,
     "metadata": {},
     "output_type": "execute_result"
    }
   ],
   "source": [
    "# Above 80 (percentage)\n",
    "total_charges_above80.Contract.value_counts() / total_charges_above80.shape[0]"
   ]
  },
  {
   "cell_type": "markdown",
   "id": "69cd0957",
   "metadata": {},
   "source": [
    "## 4. For those who did not churn what is the proportion of each kind of contract?"
   ]
  },
  {
   "cell_type": "code",
   "execution_count": 32,
   "id": "ee17ed8a",
   "metadata": {},
   "outputs": [],
   "source": [
    "## Extract those who unsubscribed the services (Churn = Yes)\n",
    "\n",
    "paying_df = pd.read_sql(\"select * from churn_all where Churn = 'No'\", conn)"
   ]
  },
  {
   "cell_type": "code",
   "execution_count": 33,
   "id": "f9ac5371",
   "metadata": {},
   "outputs": [
    {
     "data": {
      "text/plain": [
       "count    5174.000000\n",
       "mean     2549.911442\n",
       "std      2329.954215\n",
       "min         0.000000\n",
       "25%       572.900000\n",
       "50%      1679.525000\n",
       "75%      4262.850000\n",
       "max      8672.450000\n",
       "Name: TotalCharges, dtype: float64"
      ]
     },
     "execution_count": 33,
     "metadata": {},
     "output_type": "execute_result"
    }
   ],
   "source": [
    "paying_df['TotalCharges'] = paying_df['TotalCharges'].astype(float)\n",
    "paying_df.TotalCharges.describe()"
   ]
  },
  {
   "cell_type": "code",
   "execution_count": 34,
   "id": "b233e7a2",
   "metadata": {},
   "outputs": [
    {
     "data": {
      "text/plain": [
       "4890.900000000001"
      ]
     },
     "execution_count": 34,
     "metadata": {},
     "output_type": "execute_result"
    }
   ],
   "source": [
    "# Find the 80th percentile of the data in TotalCharges\n",
    "paying_df.TotalCharges.quantile(0.8)"
   ]
  },
  {
   "cell_type": "code",
   "execution_count": 35,
   "id": "49abdce8",
   "metadata": {},
   "outputs": [],
   "source": [
    "# Divide the data by the 80th percentile of the data from the TotalCharges variable\n",
    "paying_total_charges_under80 = paying_df.query(\"TotalCharges <= 4895.8\")\n",
    "paying_total_charges_above80 = paying_df.query(\"TotalCharges > 4895.8\")"
   ]
  },
  {
   "cell_type": "code",
   "execution_count": 36,
   "id": "7c847659",
   "metadata": {},
   "outputs": [
    {
     "data": {
      "text/plain": [
       "Month-to-month    0.499396\n",
       "Two year          0.255011\n",
       "One year          0.245593\n",
       "Name: Contract, dtype: float64"
      ]
     },
     "execution_count": 36,
     "metadata": {},
     "output_type": "execute_result"
    }
   ],
   "source": [
    "# Under 80 (percentage)\n",
    "paying_total_charges_under80.Contract.value_counts() / paying_total_charges_under80.shape[0]"
   ]
  },
  {
   "cell_type": "code",
   "execution_count": 37,
   "id": "8a83a3ca",
   "metadata": {},
   "outputs": [
    {
     "data": {
      "text/plain": [
       "Two year          0.572120\n",
       "One year          0.280736\n",
       "Month-to-month    0.147144\n",
       "Name: Contract, dtype: float64"
      ]
     },
     "execution_count": 37,
     "metadata": {},
     "output_type": "execute_result"
    }
   ],
   "source": [
    "# Above 80 (percentage)\n",
    "paying_total_charges_above80.Contract.value_counts() / paying_total_charges_above80.shape[0]"
   ]
  },
  {
   "cell_type": "markdown",
   "id": "caec643e",
   "metadata": {},
   "source": [
    "- If we want to stop Churning we would like to sell contracts to people for at least one year, and much better for 2 years (Conjecture).\n",
    "- We have 57% of the people that stayed in the company in the top 20% LTV with 2 year contracts, and only 11% of the people in the top 20% had a 2 year contract and left the company.\n",
    "- 95% of the people that left the company and are in the low 80% have a month-to-month contract, in contrast to only 50% of the people in the low 80% that stayed in the company. We can say that having a month-to-month contract is one of the reasons that people are leaving the company (conjecture)."
   ]
  }
 ],
 "metadata": {
  "kernelspec": {
   "display_name": "Python 3 (ipykernel)",
   "language": "python",
   "name": "python3"
  },
  "language_info": {
   "codemirror_mode": {
    "name": "ipython",
    "version": 3
   },
   "file_extension": ".py",
   "mimetype": "text/x-python",
   "name": "python",
   "nbconvert_exporter": "python",
   "pygments_lexer": "ipython3",
   "version": "3.9.7"
  }
 },
 "nbformat": 4,
 "nbformat_minor": 5
}
