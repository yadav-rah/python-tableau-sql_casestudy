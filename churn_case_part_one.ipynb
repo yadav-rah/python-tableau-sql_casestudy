{
 "cells": [
  {
   "cell_type": "markdown",
   "id": "03f01e77",
   "metadata": {},
   "source": [
    "# Churn Case Part 1"
   ]
  },
  {
   "cell_type": "markdown",
   "id": "8036b2a5",
   "metadata": {},
   "source": [
    "## Reading all CSV files with Pandas"
   ]
  },
  {
   "cell_type": "code",
   "execution_count": null,
   "id": "89585709",
   "metadata": {},
   "outputs": [],
   "source": [
    "import pandas as pd"
   ]
  },
  {
   "cell_type": "code",
   "execution_count": null,
   "id": "0dd8964a",
   "metadata": {},
   "outputs": [],
   "source": [
    "customer = pd.read_csv(\"./files/customer.csv\")\n",
    "customer.head()"
   ]
  },
  {
   "cell_type": "code",
   "execution_count": null,
   "id": "b83a079b",
   "metadata": {},
   "outputs": [],
   "source": [
    "cust_loc = pd.read_csv(\"./files/cust_loc.csv\")\n",
    "cust_loc.head()"
   ]
  },
  {
   "cell_type": "code",
   "execution_count": null,
   "id": "8afb3080",
   "metadata": {},
   "outputs": [],
   "source": [
    "cust_services = pd.read_csv(\"./files/cust_services.csv\")\n",
    "cust_services.head()"
   ]
  },
  {
   "cell_type": "code",
   "execution_count": null,
   "id": "dcfcbd59",
   "metadata": {},
   "outputs": [],
   "source": [
    "cust_account = pd.read_csv(\"./files/cust_account.csv\")\n",
    "cust_account.head()"
   ]
  },
  {
   "cell_type": "code",
   "execution_count": null,
   "id": "6303a1f0",
   "metadata": {},
   "outputs": [],
   "source": [
    "cust_churn = pd.read_csv(\"./files/cust_churn.csv\")\n",
    "cust_churn.head()"
   ]
  },
  {
   "cell_type": "markdown",
   "id": "2551f0cc",
   "metadata": {},
   "source": [
    "## Create database and tables"
   ]
  },
  {
   "cell_type": "code",
   "execution_count": null,
   "id": "505eda3a",
   "metadata": {},
   "outputs": [],
   "source": [
    "import sqlite3"
   ]
  },
  {
   "cell_type": "code",
   "execution_count": null,
   "id": "c9ef739e",
   "metadata": {},
   "outputs": [],
   "source": [
    "conn = sqlite3.connect(\"churn.db\")\n",
    "cur = conn.cursor()"
   ]
  },
  {
   "cell_type": "code",
   "execution_count": null,
   "id": "bdf832f4",
   "metadata": {},
   "outputs": [],
   "source": [
    "# Create customer table\n",
    "customer.to_sql(\"customer\", conn, if_exists=\"replace\", index=False)"
   ]
  },
  {
   "cell_type": "code",
   "execution_count": null,
   "id": "6a97c9d6",
   "metadata": {},
   "outputs": [],
   "source": [
    "# Createa customer location table\n",
    "cust_loc.to_sql(\"cust_loc\", conn, if_exists=\"replace\", index=False)"
   ]
  },
  {
   "cell_type": "code",
   "execution_count": null,
   "id": "e385d30b",
   "metadata": {},
   "outputs": [],
   "source": [
    "# Createa customer services table\n",
    "cust_services.to_sql(\"cust_services\", conn, if_exists=\"replace\", index=False)"
   ]
  },
  {
   "cell_type": "code",
   "execution_count": null,
   "id": "206fad5a",
   "metadata": {},
   "outputs": [],
   "source": [
    "# Createa customer account table\n",
    "cust_account.to_sql(\"cust_account\", conn, if_exists=\"replace\", index=False)"
   ]
  },
  {
   "cell_type": "code",
   "execution_count": null,
   "id": "df523a78",
   "metadata": {},
   "outputs": [],
   "source": [
    "# Createa customer churn table\n",
    "cust_churn.to_sql(\"cust_churn\", conn, if_exists=\"replace\", index=False)"
   ]
  },
  {
   "cell_type": "markdown",
   "id": "6f0bd216",
   "metadata": {},
   "source": [
    "## Information about tables"
   ]
  },
  {
   "cell_type": "code",
   "execution_count": null,
   "id": "6b872a9c",
   "metadata": {},
   "outputs": [],
   "source": [
    "def table_info(conn, cursor):\n",
    "    \"\"\"Prints out all of the columns of every table in the DB.\n",
    "    \n",
    "    Arguments:\n",
    "        conn: database connection object\n",
    "        cursor: cursor object\n",
    "    \"\"\"\n",
    "    \n",
    "    tables = cursor.execute(\"SELECT name FROM sqlite_master WHERE type='table';\").fetchall()\n",
    "    for table_name in tables:\n",
    "        table_name = table_name[0]\n",
    "        table = pd.read_sql_query(\"SELECT * FROM {} LIMIT 0\".format(table_name), conn)\n",
    "        print(table_name)\n",
    "        for col in table.columns:\n",
    "            print(\"\\t\"+ col)\n",
    "        print()"
   ]
  },
  {
   "cell_type": "code",
   "execution_count": null,
   "id": "656c3012",
   "metadata": {},
   "outputs": [],
   "source": [
    "table_info(conn, cur)"
   ]
  },
  {
   "cell_type": "markdown",
   "id": "63700b1d",
   "metadata": {},
   "source": [
    "## Join all tables"
   ]
  },
  {
   "cell_type": "code",
   "execution_count": null,
   "id": "4454e4bb",
   "metadata": {},
   "outputs": [],
   "source": [
    "cur.execute(\"\"\"\n",
    "ALTER TABLE cust_loc\n",
    "RENAME COLUMN Cust_ID TO CustomerID\"\"\")"
   ]
  },
  {
   "cell_type": "code",
   "execution_count": null,
   "id": "75ddd938",
   "metadata": {},
   "outputs": [],
   "source": [
    "cur.execute(\"\"\"\n",
    "SELECT\n",
    "*\n",
    "FROM customer\n",
    "INNER JOIN cust_loc\n",
    "USING (CustomerID)\n",
    "\"\"\")\n",
    "cur.fetchone()"
   ]
  },
  {
   "cell_type": "code",
   "execution_count": null,
   "id": "bb2037e8",
   "metadata": {},
   "outputs": [],
   "source": [
    "cust_loc = cust_loc.rename(columns={\"Cust_ID\": \"CustomerID\"})"
   ]
  },
  {
   "cell_type": "code",
   "execution_count": null,
   "id": "f9dc53b8",
   "metadata": {},
   "outputs": [],
   "source": [
    "cust_loc.head(10)"
   ]
  },
  {
   "cell_type": "code",
   "execution_count": null,
   "id": "72bfa080",
   "metadata": {},
   "outputs": [],
   "source": [
    "pd.concat([customer, cust_loc], join=\"inner\", axis=1)"
   ]
  },
  {
   "cell_type": "code",
   "execution_count": null,
   "id": "49a9ccd4",
   "metadata": {},
   "outputs": [],
   "source": [
    "# Rename remaining columns\n",
    "cust_services = cust_services.rename(columns={\"Cust_ID\": \"CustomerID\"})\n",
    "cust_account = cust_account.rename(columns={\"Account_id\": \"CustomerID\"})\n",
    "cust_churn = cust_churn.rename(columns={\"Id\": \"CustomerID\"})"
   ]
  },
  {
   "cell_type": "code",
   "execution_count": null,
   "id": "7d8c76e4",
   "metadata": {},
   "outputs": [],
   "source": [
    "# join dataframes\n",
    "dfs_to_join = [customer, cust_loc, cust_services, cust_account, cust_churn]"
   ]
  },
  {
   "cell_type": "code",
   "execution_count": null,
   "id": "178f5b66",
   "metadata": {},
   "outputs": [],
   "source": [
    "churn_all = pd.concat(dfs_to_join, join=\"inner\", axis=1)"
   ]
  },
  {
   "cell_type": "code",
   "execution_count": null,
   "id": "2c04829b",
   "metadata": {},
   "outputs": [],
   "source": [
    "churn_all.columns.duplicated() # Find the columns which are duplicates."
   ]
  },
  {
   "cell_type": "code",
   "execution_count": null,
   "id": "e3242d5c",
   "metadata": {},
   "outputs": [],
   "source": [
    "churn_all = churn_all.loc[:, ~churn_all.columns.duplicated()]  # drop all the duplicate columns from the churn dataset."
   ]
  },
  {
   "cell_type": "code",
   "execution_count": null,
   "id": "52e23bdb",
   "metadata": {},
   "outputs": [],
   "source": [
    "churn_all.head(10)"
   ]
  },
  {
   "cell_type": "code",
   "execution_count": null,
   "id": "e7acaf11",
   "metadata": {},
   "outputs": [],
   "source": [
    "# Create churn_all table\n",
    "churn_all.to_sql(\"churn_all\", conn, if_exists=\"replace\", index=False)"
   ]
  },
  {
   "cell_type": "code",
   "execution_count": null,
   "id": "8ca9892f",
   "metadata": {},
   "outputs": [],
   "source": [
    "churn_all.to_csv(\"churn_all.csv\")"
   ]
  }
 ],
 "metadata": {
  "kernelspec": {
   "display_name": "Python 3 (ipykernel)",
   "language": "python",
   "name": "python3"
  },
  "language_info": {
   "codemirror_mode": {
    "name": "ipython",
    "version": 3
   },
   "file_extension": ".py",
   "mimetype": "text/x-python",
   "name": "python",
   "nbconvert_exporter": "python",
   "pygments_lexer": "ipython3",
   "version": "3.9.7"
  }
 },
 "nbformat": 4,
 "nbformat_minor": 5
}
