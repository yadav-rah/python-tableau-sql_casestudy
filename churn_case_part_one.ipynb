{
 "cells": [
  {
   "cell_type": "markdown",
   "id": "03f01e77",
   "metadata": {},
   "source": [
    "# Churn Case Part 1"
   ]
  },
  {
   "cell_type": "markdown",
   "id": "8036b2a5",
   "metadata": {},
   "source": [
    "## Reading all CSV files with Pandas"
   ]
  },
  {
   "cell_type": "code",
   "execution_count": null,
   "id": "89585709",
   "metadata": {},
   "outputs": [],
   "source": [
    "import pandas as pd"
   ]
  },
  {
   "cell_type": "code",
   "execution_count": null,
   "id": "0dd8964a",
   "metadata": {},
   "outputs": [],
   "source": [
    "customer = pd.read_csv(\"./files/customer.csv\")\n",
    "customer.head()"
   ]
  },
  {
   "cell_type": "code",
   "execution_count": null,
   "id": "b83a079b",
   "metadata": {},
   "outputs": [],
   "source": [
    "cust_loc = pd.read_csv(\"./files/cust_loc.csv\")\n",
    "cust_loc.head()"
   ]
  },
  {
   "cell_type": "code",
   "execution_count": null,
   "id": "8afb3080",
   "metadata": {},
   "outputs": [],
   "source": [
    "cust_services = pd.read_csv(\"./files/cust_services.csv\")\n",
    "cust_services.head()"
   ]
  },
  {
   "cell_type": "code",
   "execution_count": null,
   "id": "dcfcbd59",
   "metadata": {},
   "outputs": [],
   "source": [
    "cust_account = pd.read_csv(\"./files/cust_account.csv\")\n",
    "cust_account.head()"
   ]
  },
  {
   "cell_type": "code",
   "execution_count": null,
   "id": "6303a1f0",
   "metadata": {},
   "outputs": [],
   "source": [
    "cust_churn = pd.read_csv(\"./files/cust_churn.csv\")\n",
    "cust_churn.head()"
   ]
  },
  {
   "cell_type": "markdown",
   "id": "2551f0cc",
   "metadata": {},
   "source": [
    "## Create database and tables"
   ]
  },
  {
   "cell_type": "code",
   "execution_count": null,
   "id": "505eda3a",
   "metadata": {},
   "outputs": [],
   "source": [
    "import sqlite3"
   ]
  },
  {
   "cell_type": "code",
   "execution_count": null,
   "id": "c9ef739e",
   "metadata": {},
   "outputs": [],
   "source": [
    "conn = sqlite3.connect(\"churn.db\")\n",
    "cur = conn.cursor()"
   ]
  },
  {
   "cell_type": "code",
   "execution_count": null,
   "id": "bdf832f4",
   "metadata": {},
   "outputs": [],
   "source": [
    "# Create customer table\n",
    "customer.to_sql(\"customer\", conn, if_exists=\"replace\", index=False)"
   ]
  },
  {
   "cell_type": "code",
   "execution_count": null,
   "id": "6a97c9d6",
   "metadata": {},
   "outputs": [],
   "source": [
    "# Createa customer location table\n",
    "cust_loc.to_sql(\"cust_loc\", conn, if_exists=\"replace\", index=False)"
   ]
  },
  {
   "cell_type": "code",
   "execution_count": null,
   "id": "e385d30b",
   "metadata": {},
   "outputs": [],
   "source": [
    "# Createa customer services table\n",
    "cust_services.to_sql(\"cust_services\", conn, if_exists=\"replace\", index=False)"
   ]
  },
  {
   "cell_type": "code",
   "execution_count": null,
   "id": "206fad5a",
   "metadata": {},
   "outputs": [],
   "source": [
    "# Createa customer account table\n",
    "cust_account.to_sql(\"cust_account\", conn, if_exists=\"replace\", index=False)"
   ]
  },
  {
   "cell_type": "code",
   "execution_count": null,
   "id": "df523a78",
   "metadata": {},
   "outputs": [],
   "source": [
    "# Createa customer churn table\n",
    "cust_churn.to_sql(\"cust_churn\", conn, if_exists=\"replace\", index=False)"
   ]
  },
  {
   "cell_type": "markdown",
   "id": "6f0bd216",
   "metadata": {},
   "source": [
    "## Information about tables"
   ]
  },
  {
   "cell_type": "code",
   "execution_count": null,
   "id": "6b872a9c",
   "metadata": {},
   "outputs": [],
   "source": [
    "def table_info(conn, cursor):\n",
    "    \"\"\"Prints out all of the columns of every table in the DB.\n",
    "    \n",
    "    Arguments:\n",
    "        conn: database connection object\n",
    "        cursor: cursor object\n",
    "    \"\"\"\n",
    "    \n",
    "    tables = cursor.execute(\"SELECT name FROM sqlite_master WHERE type='table';\").fetchall()\n",
    "    for table_name in tables:\n",
    "        table_name = table_name[0]\n",
    "        table = pd.read_sql_query(\"SELECT * FROM {} LIMIT 0\".format(table_name), conn)\n",
    "        print(table_name)\n",
    "        for col in table.columns:\n",
    "            print(\"\\t\"+ col)\n",
    "        print()"
   ]
  },
  {
   "cell_type": "code",
   "execution_count": null,
   "id": "656c3012",
   "metadata": {},
   "outputs": [],
   "source": [
    "table_info(conn, cur)"
   ]
  }
 ],
 "metadata": {
  "kernelspec": {
   "display_name": "Python 3 (ipykernel)",
   "language": "python",
   "name": "python3"
  },
  "language_info": {
   "codemirror_mode": {
    "name": "ipython",
    "version": 3
   },
   "file_extension": ".py",
   "mimetype": "text/x-python",
   "name": "python",
   "nbconvert_exporter": "python",
   "pygments_lexer": "ipython3",
   "version": "3.9.7"
  }
 },
 "nbformat": 4,
 "nbformat_minor": 5
}
